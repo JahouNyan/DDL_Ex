{
 "cells": [
  {
   "cell_type": "code",
   "execution_count": 1,
   "metadata": {},
   "outputs": [],
   "source": [
    "import pandas as pd\n",
    "import seaborn as sns\n",
    "from sklearn.cluster import KMeans #The k-means algorithm\n",
    "import matplotlib.pyplot as plt"
   ]
  },
  {
   "cell_type": "markdown",
   "metadata": {},
   "source": [
    "Each row is a user (Row 1 = User #1)\n",
    "Each column is a joke (Column 1 = Joke #1)\n",
    "Ratings are given as real values from -10.00 to +10.00\n",
    "99 corresponds to a null rating\n",
    "As of May 2009, the jokes 7, 8, 13, 15, 16, 17, 18, 19 are the \"gauge set"
   ]
  },
  {
   "cell_type": "code",
   "execution_count": null,
   "metadata": {},
   "outputs": [],
   "source": [
    "ratings = pd.read_csv (\"jester.csv\", header = None)\n",
    "ratings.head()"
   ]
  },
  {
   "cell_type": "code",
   "execution_count": null,
   "metadata": {},
   "outputs": [],
   "source": [
    "colname =[\"joke\"]\n",
    "jokes = pd.read_csv(\"jokes.txt\", delimiter = \"\\t\", names=colname, header=None)\n",
    "jokes.head()\n",
    "# you can n use the with open arguemnt to open in python , then parse to pandas"
   ]
  },
  {
   "cell_type": "code",
   "execution_count": null,
   "metadata": {},
   "outputs": [],
   "source": [
    "#replace 99 and 99.0 with null values\n",
    "ratings.replace(99, 0)  #replacing with 0 is not the best system since 0 itself is a valid ratings value\n",
    "ratings.head()"
   ]
  },
  {
   "cell_type": "code",
   "execution_count": null,
   "metadata": {},
   "outputs": [],
   "source": [
    "# figure out the indexing problems\n",
    "# merge the datasets... remember that each column is a joke so merge accrodingly with in of number given to joke\n",
    "# create a subset of the ratings matrix containing the gauge set items (jokes 7, 8, 13, 15, 16, 17, 18, 19 )\n",
    "# split into training and test data?\n",
    "# use k-means clustering\n",
    "# the collaborative filtering"
   ]
  }
 ],
 "metadata": {
  "kernelspec": {
   "display_name": "Python 3",
   "language": "python",
   "name": "python3"
  },
  "language_info": {
   "codemirror_mode": {
    "name": "ipython",
    "version": 3
   },
   "file_extension": ".py",
   "mimetype": "text/x-python",
   "name": "python",
   "nbconvert_exporter": "python",
   "pygments_lexer": "ipython3",
   "version": "3.7.0"
  }
 },
 "nbformat": 4,
 "nbformat_minor": 2
}
