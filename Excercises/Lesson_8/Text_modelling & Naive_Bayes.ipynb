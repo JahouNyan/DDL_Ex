{
 "cells": [
  {
   "cell_type": "code",
   "execution_count": 20,
   "metadata": {},
   "outputs": [],
   "source": [
    "import pandas as pd\n",
    "from sklearn.feature_extraction.text import CountVectorizer #The CountVectorizer object\n",
    "from sklearn.naive_bayes import MultinomialNB\n",
    "from sklearn.model_selection import train_test_split\n",
    "from sklearn.metrics import confusion_matrix\n",
    "from sklearn.metrics import precision_recall_fscore_support"
   ]
  },
  {
   "cell_type": "code",
   "execution_count": 2,
   "metadata": {},
   "outputs": [
    {
     "data": {
      "text/html": [
       "<div>\n",
       "<style scoped>\n",
       "    .dataframe tbody tr th:only-of-type {\n",
       "        vertical-align: middle;\n",
       "    }\n",
       "\n",
       "    .dataframe tbody tr th {\n",
       "        vertical-align: top;\n",
       "    }\n",
       "\n",
       "    .dataframe thead th {\n",
       "        text-align: right;\n",
       "    }\n",
       "</style>\n",
       "<table border=\"1\" class=\"dataframe\">\n",
       "  <thead>\n",
       "    <tr style=\"text-align: right;\">\n",
       "      <th></th>\n",
       "      <th>raw_character_text</th>\n",
       "      <th>spoken_words</th>\n",
       "    </tr>\n",
       "  </thead>\n",
       "  <tbody>\n",
       "    <tr>\n",
       "      <th>0</th>\n",
       "      <td>Miss Hoover</td>\n",
       "      <td>No, actually, it was a little of both. Sometim...</td>\n",
       "    </tr>\n",
       "    <tr>\n",
       "      <th>1</th>\n",
       "      <td>Lisa Simpson</td>\n",
       "      <td>Where's Mr. Bergstrom?</td>\n",
       "    </tr>\n",
       "    <tr>\n",
       "      <th>2</th>\n",
       "      <td>Miss Hoover</td>\n",
       "      <td>I don't know. Although I'd sure like to talk t...</td>\n",
       "    </tr>\n",
       "  </tbody>\n",
       "</table>\n",
       "</div>"
      ],
      "text/plain": [
       "  raw_character_text                                       spoken_words\n",
       "0        Miss Hoover  No, actually, it was a little of both. Sometim...\n",
       "1       Lisa Simpson                             Where's Mr. Bergstrom?\n",
       "2        Miss Hoover  I don't know. Although I'd sure like to talk t..."
      ]
     },
     "execution_count": 2,
     "metadata": {},
     "output_type": "execute_result"
    }
   ],
   "source": [
    "simpsons = pd.read_csv(\"simpsons_dataset.csv\")\n",
    "simpsons.head(3)"
   ]
  },
  {
   "cell_type": "code",
   "execution_count": 3,
   "metadata": {},
   "outputs": [
    {
     "data": {
      "text/plain": [
       "Homer Simpson               29782\n",
       "Marge Simpson               14141\n",
       "Bart Simpson                13759\n",
       "Lisa Simpson                11489\n",
       "C. Montgomery Burns          3162\n",
       "Moe Szyslak                  2862\n",
       "Seymour Skinner              2438\n",
       "Ned Flanders                 2144\n",
       "Grampa Simpson               1880\n",
       "Milhouse Van Houten          1862\n",
       "Chief Wiggum                 1830\n",
       "Krusty the Clown             1768\n",
       "Nelson Muntz                 1172\n",
       "Lenny Leonard                1166\n",
       "Apu Nahasapeemapetilon       1006\n",
       "Waylon Smithers               996\n",
       "Kent Brockman                 891\n",
       "Carl Carlson                  883\n",
       "Edna Krabappel-Flanders       739\n",
       "Dr. Julius Hibbert            691\n",
       "Selma Bouvier                 611\n",
       "Barney Gumble                 611\n",
       "Sideshow Bob                  576\n",
       "Rev. Timothy Lovejoy          558\n",
       "Crowd                         540\n",
       "Groundskeeper Willie          534\n",
       "Gary Chalmers                 523\n",
       "Ralph Wiggum                  507\n",
       "Mayor Joe Quimby              503\n",
       "Patty Bouvier                 479\n",
       "                            ...  \n",
       "Grieving Widow                  1\n",
       "Barge Captain                   1\n",
       "JUKEBOX RECORD                  1\n",
       "Man In Van                      1\n",
       "Pixie Head                      1\n",
       "GOV. HUNTINGCHURCH              1\n",
       "Ghostly Voice                   1\n",
       "FISH-HAG                        1\n",
       "Female Grape Stomper            1\n",
       "Nancy O'Dell                    1\n",
       "3rd Ballerina                   1\n",
       "TV-STATION ANNOUNCER            1\n",
       "Ape Nurse                       1\n",
       "Other Guards                    1\n",
       "Ethnic Man                      1\n",
       "Singaporean Girl                1\n",
       "LATINO WORKERS                  1\n",
       "9-YEAR OLD YOKEL BOY            1\n",
       "2ND VOICE ON TRANSMITTER        1\n",
       "House Members                   1\n",
       "Albuquerquean Man               1\n",
       "TEACHER IN BACK                 1\n",
       "Otto's Left Shoe                1\n",
       "2nd Atf Agent                   1\n",
       "Male Factory Worker             1\n",
       "Mother In Audience              1\n",
       "Lullaby Singer                  1\n",
       "Dave the Lifeguard              1\n",
       "Pauly Shore                     1\n",
       "Cossack Puppets                 1\n",
       "Name: raw_character_text, Length: 6758, dtype: int64"
      ]
     },
     "execution_count": 3,
     "metadata": {},
     "output_type": "execute_result"
    }
   ],
   "source": [
    "simpsons[\"raw_character_text\"].value_counts()"
   ]
  },
  {
   "cell_type": "markdown",
   "metadata": {},
   "source": [
    "The lines for bart and lisa are as follows:\n",
    "Bart Simpson                     13759\n",
    "Lisa Simpson                     11489"
   ]
  },
  {
   "cell_type": "code",
   "execution_count": 4,
   "metadata": {},
   "outputs": [
    {
     "data": {
      "text/html": [
       "<div>\n",
       "<style scoped>\n",
       "    .dataframe tbody tr th:only-of-type {\n",
       "        vertical-align: middle;\n",
       "    }\n",
       "\n",
       "    .dataframe tbody tr th {\n",
       "        vertical-align: top;\n",
       "    }\n",
       "\n",
       "    .dataframe thead th {\n",
       "        text-align: right;\n",
       "    }\n",
       "</style>\n",
       "<table border=\"1\" class=\"dataframe\">\n",
       "  <thead>\n",
       "    <tr style=\"text-align: right;\">\n",
       "      <th></th>\n",
       "      <th>raw_character_text</th>\n",
       "      <th>spoken_words</th>\n",
       "    </tr>\n",
       "  </thead>\n",
       "  <tbody>\n",
       "    <tr>\n",
       "      <th>1</th>\n",
       "      <td>Lisa Simpson</td>\n",
       "      <td>Where's Mr. Bergstrom?</td>\n",
       "    </tr>\n",
       "    <tr>\n",
       "      <th>3</th>\n",
       "      <td>Lisa Simpson</td>\n",
       "      <td>That life is worth living.</td>\n",
       "    </tr>\n",
       "    <tr>\n",
       "      <th>7</th>\n",
       "      <td>Bart Simpson</td>\n",
       "      <td>Victory party under the slide!</td>\n",
       "    </tr>\n",
       "    <tr>\n",
       "      <th>9</th>\n",
       "      <td>Lisa Simpson</td>\n",
       "      <td>Mr. Bergstrom! Mr. Bergstrom!</td>\n",
       "    </tr>\n",
       "    <tr>\n",
       "      <th>11</th>\n",
       "      <td>Lisa Simpson</td>\n",
       "      <td>Do you know where I could find him?</td>\n",
       "    </tr>\n",
       "  </tbody>\n",
       "</table>\n",
       "</div>"
      ],
      "text/plain": [
       "   raw_character_text                         spoken_words\n",
       "1        Lisa Simpson               Where's Mr. Bergstrom?\n",
       "3        Lisa Simpson           That life is worth living.\n",
       "7        Bart Simpson       Victory party under the slide!\n",
       "9        Lisa Simpson        Mr. Bergstrom! Mr. Bergstrom!\n",
       "11       Lisa Simpson  Do you know where I could find him?"
      ]
     },
     "execution_count": 4,
     "metadata": {},
     "output_type": "execute_result"
    }
   ],
   "source": [
    "# create a df with on lisa and barts lines\n",
    "df = simpsons[(simpsons[\"raw_character_text\"] == \"Lisa Simpson\") | (simpsons[\"raw_character_text\"] == \"Bart Simpson\")] \n",
    "df.head()"
   ]
  },
  {
   "cell_type": "code",
   "execution_count": 5,
   "metadata": {},
   "outputs": [
    {
     "name": "stdout",
     "output_type": "stream",
     "text": [
      "There are 14258 words in the vocabulary. A selection: ['anguished', 'angus', 'anima', 'animal', 'animals', 'animated', 'animation', 'animators', 'anka', 'ankle', 'ann', 'annapolis', 'anne', 'annie', 'anniversary', 'annnnd', 'announce', 'announcement', 'announcements', 'announcer']\n"
     ]
    }
   ],
   "source": [
    "text = df['spoken_words'].values.astype('U') #Taking the text from the df. We need to convert it to Unicode\n",
    "\n",
    "vect = CountVectorizer(stop_words='english') #Create the CV object, with English stop words\n",
    "vect = vect.fit(text) #We fit the model with the words from the review text\n",
    "feature_names = vect.get_feature_names() #Get the words from the vocabulary\n",
    "print(f\"There are {len(feature_names)} words in the vocabulary. A selection: {feature_names[500:520]}\")"
   ]
  },
  {
   "cell_type": "code",
   "execution_count": 6,
   "metadata": {},
   "outputs": [
    {
     "name": "stdout",
     "output_type": "stream",
     "text": [
      "  (24, 424)\t1\n",
      "  (40, 325)\t1\n",
      "  (45, 266)\t1\n",
      "  (63, 269)\t1\n",
      "  (74, 356)\t1\n",
      "  (80, 264)\t1\n",
      "  (82, 304)\t1\n",
      "  (98, 192)\t1\n",
      "  (100, 396)\t1\n",
      "  (151, 328)\t1\n",
      "  (156, 325)\t1\n",
      "  (157, 451)\t1\n",
      "  (163, 325)\t1\n",
      "  (164, 325)\t1\n",
      "  (186, 461)\t1\n",
      "  (207, 325)\t1\n",
      "  (210, 397)\t1\n",
      "  (231, 270)\t1\n",
      "  (237, 404)\t1\n",
      "  (259, 325)\t1\n",
      "  (287, 325)\t1\n",
      "  (294, 493)\t1\n",
      "  (295, 163)\t1\n",
      "  (318, 300)\t1\n",
      "  (321, 281)\t1\n",
      "  (356, 450)\t1\n",
      "  (358, 397)\t1\n",
      "  (362, 449)\t1\n",
      "  (366, 24)\t1\n",
      "  (366, 449)\t1\n",
      "  (386, 129)\t1\n",
      "  (387, 325)\t1\n",
      "  (388, 70)\t1\n",
      "  (394, 38)\t1\n",
      "  (394, 91)\t1\n",
      "  (396, 446)\t1\n",
      "  (398, 126)\t1\n",
      "  (410, 52)\t1\n",
      "  (410, 319)\t1\n",
      "  (410, 343)\t1\n",
      "  (413, 449)\t1\n",
      "  (419, 196)\t1\n",
      "  (428, 360)\t1\n",
      "  (464, 304)\t1\n"
     ]
    }
   ],
   "source": [
    "matrix = vect.transform(text) #The transform method from the CountVectorizer object creates the matrix\n",
    "print(matrix[0:500,0:500])\n",
    "#matrix"
   ]
  },
  {
   "cell_type": "code",
   "execution_count": 7,
   "metadata": {},
   "outputs": [],
   "source": [
    "docu_feat = pd.DataFrame(matrix.toarray()) #make a regular matrix, then put in Dataframe\n",
    "docu_feat.index = df['spoken_words'] #Give the rows names (text of the review)\n",
    "docu_feat.columns = feature_names"
   ]
  },
  {
   "cell_type": "code",
   "execution_count": 8,
   "metadata": {},
   "outputs": [
    {
     "data": {
      "text/html": [
       "<div>\n",
       "<style scoped>\n",
       "    .dataframe tbody tr th:only-of-type {\n",
       "        vertical-align: middle;\n",
       "    }\n",
       "\n",
       "    .dataframe tbody tr th {\n",
       "        vertical-align: top;\n",
       "    }\n",
       "\n",
       "    .dataframe thead th {\n",
       "        text-align: right;\n",
       "    }\n",
       "</style>\n",
       "<table border=\"1\" class=\"dataframe\">\n",
       "  <thead>\n",
       "    <tr style=\"text-align: right;\">\n",
       "      <th></th>\n",
       "      <th>bartholemew</th>\n",
       "      <th>bartholomew</th>\n",
       "      <th>bartish</th>\n",
       "      <th>bartman</th>\n",
       "      <th>barto</th>\n",
       "      <th>bartrand</th>\n",
       "      <th>bartron</th>\n",
       "      <th>barts</th>\n",
       "      <th>barty</th>\n",
       "      <th>bas</th>\n",
       "      <th>base</th>\n",
       "      <th>baseball</th>\n",
       "      <th>based</th>\n",
       "      <th>basement</th>\n",
       "      <th>basements</th>\n",
       "    </tr>\n",
       "    <tr>\n",
       "      <th>spoken_words</th>\n",
       "      <th></th>\n",
       "      <th></th>\n",
       "      <th></th>\n",
       "      <th></th>\n",
       "      <th></th>\n",
       "      <th></th>\n",
       "      <th></th>\n",
       "      <th></th>\n",
       "      <th></th>\n",
       "      <th></th>\n",
       "      <th></th>\n",
       "      <th></th>\n",
       "      <th></th>\n",
       "      <th></th>\n",
       "      <th></th>\n",
       "    </tr>\n",
       "  </thead>\n",
       "  <tbody>\n",
       "    <tr>\n",
       "      <th>Where's Mr. Bergstrom?</th>\n",
       "      <td>0</td>\n",
       "      <td>0</td>\n",
       "      <td>0</td>\n",
       "      <td>0</td>\n",
       "      <td>0</td>\n",
       "      <td>0</td>\n",
       "      <td>0</td>\n",
       "      <td>0</td>\n",
       "      <td>0</td>\n",
       "      <td>0</td>\n",
       "      <td>0</td>\n",
       "      <td>0</td>\n",
       "      <td>0</td>\n",
       "      <td>0</td>\n",
       "      <td>0</td>\n",
       "    </tr>\n",
       "    <tr>\n",
       "      <th>That life is worth living.</th>\n",
       "      <td>0</td>\n",
       "      <td>0</td>\n",
       "      <td>0</td>\n",
       "      <td>0</td>\n",
       "      <td>0</td>\n",
       "      <td>0</td>\n",
       "      <td>0</td>\n",
       "      <td>0</td>\n",
       "      <td>0</td>\n",
       "      <td>0</td>\n",
       "      <td>0</td>\n",
       "      <td>0</td>\n",
       "      <td>0</td>\n",
       "      <td>0</td>\n",
       "      <td>0</td>\n",
       "    </tr>\n",
       "    <tr>\n",
       "      <th>Victory party under the slide!</th>\n",
       "      <td>0</td>\n",
       "      <td>0</td>\n",
       "      <td>0</td>\n",
       "      <td>0</td>\n",
       "      <td>0</td>\n",
       "      <td>0</td>\n",
       "      <td>0</td>\n",
       "      <td>0</td>\n",
       "      <td>0</td>\n",
       "      <td>0</td>\n",
       "      <td>0</td>\n",
       "      <td>0</td>\n",
       "      <td>0</td>\n",
       "      <td>0</td>\n",
       "      <td>0</td>\n",
       "    </tr>\n",
       "    <tr>\n",
       "      <th>Mr. Bergstrom! Mr. Bergstrom!</th>\n",
       "      <td>0</td>\n",
       "      <td>0</td>\n",
       "      <td>0</td>\n",
       "      <td>0</td>\n",
       "      <td>0</td>\n",
       "      <td>0</td>\n",
       "      <td>0</td>\n",
       "      <td>0</td>\n",
       "      <td>0</td>\n",
       "      <td>0</td>\n",
       "      <td>0</td>\n",
       "      <td>0</td>\n",
       "      <td>0</td>\n",
       "      <td>0</td>\n",
       "      <td>0</td>\n",
       "    </tr>\n",
       "  </tbody>\n",
       "</table>\n",
       "</div>"
      ],
      "text/plain": [
       "                                bartholemew  bartholomew  bartish  bartman  \\\n",
       "spoken_words                                                                 \n",
       "Where's Mr. Bergstrom?                    0            0        0        0   \n",
       "That life is worth living.                0            0        0        0   \n",
       "Victory party under the slide!            0            0        0        0   \n",
       "Mr. Bergstrom! Mr. Bergstrom!             0            0        0        0   \n",
       "\n",
       "                                barto  bartrand  bartron  barts  barty  bas  \\\n",
       "spoken_words                                                                  \n",
       "Where's Mr. Bergstrom?              0         0        0      0      0    0   \n",
       "That life is worth living.          0         0        0      0      0    0   \n",
       "Victory party under the slide!      0         0        0      0      0    0   \n",
       "Mr. Bergstrom! Mr. Bergstrom!       0         0        0      0      0    0   \n",
       "\n",
       "                                base  baseball  based  basement  basements  \n",
       "spoken_words                                                                \n",
       "Where's Mr. Bergstrom?             0         0      0         0          0  \n",
       "That life is worth living.         0         0      0         0          0  \n",
       "Victory party under the slide!     0         0      0         0          0  \n",
       "Mr. Bergstrom! Mr. Bergstrom!      0         0      0         0          0  "
      ]
     },
     "execution_count": 8,
     "metadata": {},
     "output_type": "execute_result"
    }
   ],
   "source": [
    "docu_feat.iloc[0:4, 1000:1015]"
   ]
  },
  {
   "cell_type": "code",
   "execution_count": 9,
   "metadata": {},
   "outputs": [],
   "source": [
    "#Split the data into a training and a test set\n",
    "y = df['raw_character_text'] #we want to which character is speaking\n",
    "X = matrix #based on the word spoken"
   ]
  },
  {
   "cell_type": "code",
   "execution_count": 10,
   "metadata": {},
   "outputs": [],
   "source": [
    "#split dataset into train and test sets\n",
    "X_train, X_test, y_train, y_test = train_test_split(X, y, test_size=0.3, random_state=1) "
   ]
  },
  {
   "cell_type": "code",
   "execution_count": 11,
   "metadata": {},
   "outputs": [
    {
     "data": {
      "text/plain": [
       "MultinomialNB(alpha=1.0, class_prior=None, fit_prior=True)"
      ]
     },
     "execution_count": 11,
     "metadata": {},
     "output_type": "execute_result"
    }
   ],
   "source": [
    "# Train a NB model on the training set\n",
    "clf = MultinomialNB()\n",
    "clf.fit(X_train, y_train)"
   ]
  },
  {
   "cell_type": "code",
   "execution_count": 64,
   "metadata": {},
   "outputs": [
    {
     "data": {
      "text/plain": [
       "array(['Bart Simpson', 'Lisa Simpson'], dtype='<U12')"
      ]
     },
     "execution_count": 64,
     "metadata": {},
     "output_type": "execute_result"
    }
   ],
   "source": [
    "#to find out the classes being used in the model\n",
    "clf.classes_"
   ]
  },
  {
   "cell_type": "code",
   "execution_count": 12,
   "metadata": {},
   "outputs": [
    {
     "name": "stdout",
     "output_type": "stream",
     "text": [
      "['Bart Simpson']\n"
     ]
    }
   ],
   "source": [
    "# Predict the class (Lisa or Bart) of the test set\n",
    "print(clf.predict(X[2:3]))"
   ]
  },
  {
   "cell_type": "code",
   "execution_count": 23,
   "metadata": {},
   "outputs": [
    {
     "data": {
      "text/html": [
       "<div>\n",
       "<style scoped>\n",
       "    .dataframe tbody tr th:only-of-type {\n",
       "        vertical-align: middle;\n",
       "    }\n",
       "\n",
       "    .dataframe tbody tr th {\n",
       "        vertical-align: top;\n",
       "    }\n",
       "\n",
       "    .dataframe thead th {\n",
       "        text-align: right;\n",
       "    }\n",
       "</style>\n",
       "<table border=\"1\" class=\"dataframe\">\n",
       "  <thead>\n",
       "    <tr style=\"text-align: right;\">\n",
       "      <th></th>\n",
       "      <th>Bart</th>\n",
       "      <th>Lisa</th>\n",
       "    </tr>\n",
       "  </thead>\n",
       "  <tbody>\n",
       "    <tr>\n",
       "      <th>Bart_predict</th>\n",
       "      <td>3271</td>\n",
       "      <td>894</td>\n",
       "    </tr>\n",
       "    <tr>\n",
       "      <th>Lisa_predict</th>\n",
       "      <td>1799</td>\n",
       "      <td>1611</td>\n",
       "    </tr>\n",
       "  </tbody>\n",
       "</table>\n",
       "</div>"
      ],
      "text/plain": [
       "              Bart  Lisa\n",
       "Bart_predict  3271   894\n",
       "Lisa_predict  1799  1611"
      ]
     },
     "execution_count": 23,
     "metadata": {},
     "output_type": "execute_result"
    }
   ],
   "source": [
    "y_predict = clf.predict(X_test) #the predicted values\n",
    "cm = confusion_matrix(y_test, y_predict) #creates a \"confusion matrix\"\n",
    "conf_matrix = pd.DataFrame(cm, index=['Bart_predict', 'Lisa_predict'], columns = ['Bart', 'Lisa'])\n",
    "conf_matrix  #this is on the test set which is 30% of the entire dataframe, hence the number mismatch "
   ]
  },
  {
   "cell_type": "code",
   "execution_count": 22,
   "metadata": {},
   "outputs": [
    {
     "data": {
      "text/plain": [
       "(array([0.64516765, 0.64311377]),\n",
       " array([0.78535414, 0.47243402]),\n",
       " array([0.70839199, 0.54471682]),\n",
       " array([4165, 3410], dtype=int64))"
      ]
     },
     "execution_count": 22,
     "metadata": {},
     "output_type": "execute_result"
    }
   ],
   "source": [
    "precision_recall_fscore_support(y_test, y_predict, average=None)"
   ]
  },
  {
   "cell_type": "markdown",
   "metadata": {},
   "source": [
    "Precision is 64.3%, recall is 47.2% on the predictive model. \n",
    "From confusion matrix we see there are a lot of false negatives\n",
    "Precision means the percentage of your results which are relevant. On the other hand, recall refers to the percentage of total relevant results correctly classified by your algorithm. This is usually a trade off ... to recall everything, you will have to keep generating results which are not accurate, hence lowering your precision"
   ]
  },
  {
   "cell_type": "code",
   "execution_count": 84,
   "metadata": {},
   "outputs": [
    {
     "data": {
      "text/plain": [
       "7    Victory party under the slide!\n",
       "Name: spoken_words, dtype: object"
      ]
     },
     "execution_count": 84,
     "metadata": {},
     "output_type": "execute_result"
    }
   ],
   "source": [
    "l = df.iloc[2:3][\"spoken_words\"]"
   ]
  },
  {
   "cell_type": "code",
   "execution_count": 96,
   "metadata": {},
   "outputs": [
    {
     "data": {
      "text/html": [
       "<div>\n",
       "<style scoped>\n",
       "    .dataframe tbody tr th:only-of-type {\n",
       "        vertical-align: middle;\n",
       "    }\n",
       "\n",
       "    .dataframe tbody tr th {\n",
       "        vertical-align: top;\n",
       "    }\n",
       "\n",
       "    .dataframe thead th {\n",
       "        text-align: right;\n",
       "    }\n",
       "</style>\n",
       "<table border=\"1\" class=\"dataframe\">\n",
       "  <thead>\n",
       "    <tr style=\"text-align: right;\">\n",
       "      <th></th>\n",
       "      <th>raw_character_text</th>\n",
       "      <th>spoken_words</th>\n",
       "    </tr>\n",
       "  </thead>\n",
       "  <tbody>\n",
       "    <tr>\n",
       "      <th>7</th>\n",
       "      <td>Bart Simpson</td>\n",
       "      <td>Victory party under the slide!</td>\n",
       "    </tr>\n",
       "  </tbody>\n",
       "</table>\n",
       "</div>"
      ],
      "text/plain": [
       "  raw_character_text                    spoken_words\n",
       "7       Bart Simpson  Victory party under the slide!"
      ]
     },
     "execution_count": 96,
     "metadata": {},
     "output_type": "execute_result"
    }
   ],
   "source": [
    "df.iloc[2:3]\n",
    "#print (l[0])"
   ]
  },
  {
   "cell_type": "code",
   "execution_count": 15,
   "metadata": {},
   "outputs": [
    {
     "data": {
      "text/plain": [
       "Bart Simpson    0.544954\n",
       "Lisa Simpson    0.455046\n",
       "Name: raw_character_text, dtype: float64"
      ]
     },
     "execution_count": 15,
     "metadata": {},
     "output_type": "execute_result"
    }
   ],
   "source": [
    "df[\"raw_character_text\"].value_counts(normalize = True)"
   ]
  },
  {
   "cell_type": "code",
   "execution_count": 16,
   "metadata": {},
   "outputs": [
    {
     "data": {
      "text/plain": [
       "0.6444884488448845"
      ]
     },
     "execution_count": 16,
     "metadata": {},
     "output_type": "execute_result"
    }
   ],
   "source": [
    "clf.score(X_test, y_test) #calculate the fit on the test data"
   ]
  },
  {
   "cell_type": "code",
   "execution_count": 137,
   "metadata": {},
   "outputs": [
    {
     "name": "stdout",
     "output_type": "stream",
     "text": [
      "  raw_character_text                    spoken_words\n",
      "7       Bart Simpson  Victory party under the slide!\n",
      "0.7936665779408832\n"
     ]
    }
   ],
   "source": [
    "#checking the probabilities of dialogue\n",
    "print (df.iloc[2:3])\n",
    "p = (clf.predict_proba(X[2:3]))\n",
    "#arrange the array by ascending values and print the highest value?\n",
    "print (p.max())"
   ]
  },
  {
   "cell_type": "code",
   "execution_count": 116,
   "metadata": {},
   "outputs": [
    {
     "name": "stdout",
     "output_type": "stream",
     "text": [
      "The sentence:\n",
      " 7    Victory party under the slide!\n",
      "Name: spoken_words, dtype: object \n",
      "is likely said by ['Bart Simpson'] based on 0.79 prediction. \n",
      "The sentence:\n",
      " 7    Victory party under the slide!\n",
      "Name: spoken_words, dtype: object \n",
      "is likely said by ['Bart Simpson'] based on 0.79 prediction. \n"
     ]
    }
   ],
   "source": [
    "#Create a loop that prints out a few lines of dialogue and the associated probabilities for Bart and Lisa. \n",
    "#testing solutions\n",
    "L = df.iloc[2:3]\n",
    "C = clf.predict(X[2:3])\n",
    "P = clf.predict_proba(X[2:3])\n",
    "p = P[0][0]\n",
    "for key in L:\n",
    "    print (f\"The sentence:\\n {L['spoken_words']} \\nis likely said by {C} based on {p:.2f} prediction. \")\n",
    "#Tip: the array with the probabilities is 2-dimensional.\n",
    "#its messy...lets clean it up"
   ]
  },
  {
   "cell_type": "code",
   "execution_count": 140,
   "metadata": {},
   "outputs": [
    {
     "name": "stdout",
     "output_type": "stream",
     "text": [
      "The sentence:\n",
      "'Where's Mr. Bergstrom?' \n",
      "is likely said by Lisa Simpson based on 0.96 prediction.\n",
      "[0.04271499 0.95728501]\n",
      "The sentence:\n",
      "'That life is worth living.' \n",
      "is likely said by Bart Simpson based on 0.68 prediction.\n",
      "[0.67634553 0.32365447]\n",
      "The sentence:\n",
      "'Victory party under the slide!' \n",
      "is likely said by Bart Simpson based on 0.79 prediction.\n",
      "[0.79366658 0.20633342]\n",
      "The sentence:\n",
      "'Mr. Bergstrom! Mr. Bergstrom!' \n",
      "is likely said by Lisa Simpson based on 1.00 prediction.\n",
      "[0.00167382 0.99832618]\n",
      "The sentence:\n",
      "'Do you know where I could find him?' \n",
      "is likely said by Bart Simpson based on 0.54 prediction.\n",
      "[0.54244121 0.45755879]\n",
      "The sentence:\n",
      "'The train, how like him... traditional, yet environmentally sound.' \n",
      "is likely said by Lisa Simpson based on 0.93 prediction.\n",
      "[0.06930173 0.93069827]\n",
      "The sentence:\n",
      "'I see he touched you, too.' \n",
      "is likely said by Lisa Simpson based on 0.58 prediction.\n",
      "[0.42381872 0.57618128]\n",
      "The sentence:\n",
      "'Hey, thanks for your vote, man.' \n",
      "is likely said by Bart Simpson based on 0.95 prediction.\n",
      "[0.95363593 0.04636407]\n",
      "The sentence:\n",
      "'Well, you got that right. Thanks for your vote, girls.' \n",
      "is likely said by Bart Simpson based on 0.84 prediction.\n",
      "[0.84316577 0.15683423]\n",
      "The sentence:\n",
      "'Well, don't sweat it. Just so long as a couple of people did... right, Milhouse?' \n",
      "is likely said by Bart Simpson based on 0.82 prediction.\n",
      "[0.81706943 0.18293057]\n",
      "The sentence:\n",
      "'Lewis?' \n",
      "is likely said by Bart Simpson based on 0.73 prediction.\n",
      "[0.73392709 0.26607291]\n",
      "The sentence:\n",
      "'Somebody must have voted.' \n",
      "is likely said by Lisa Simpson based on 0.70 prediction.\n",
      "[0.30208348 0.69791652]\n",
      "The sentence:\n",
      "'Uh oh.' \n",
      "is likely said by Bart Simpson based on 0.72 prediction.\n",
      "[0.72280486 0.27719514]\n",
      "The sentence:\n",
      "'nan' \n",
      "is likely said by Bart Simpson based on 0.54 prediction.\n",
      "[0.53582701 0.46417299]\n",
      "The sentence:\n",
      "'I demand a recount.' \n",
      "is likely said by Bart Simpson based on 0.75 prediction.\n",
      "[0.75462619 0.24537381]\n",
      "The sentence:\n",
      "'No.' \n",
      "is likely said by Bart Simpson based on 0.54 prediction.\n",
      "[0.54286199 0.45713801]\n",
      "The sentence:\n",
      "'Mr. Bergstrom! Hey, Mr. Bergstrom!' \n",
      "is likely said by Lisa Simpson based on 1.00 prediction.\n",
      "[0.00472267 0.99527733]\n",
      "The sentence:\n",
      "'Hey, Lisa, indeed.' \n",
      "is likely said by Bart Simpson based on 0.92 prediction.\n",
      "[0.92004766 0.07995234]\n",
      "The sentence:\n",
      "'Oh, I mean, were you just going to leave, just like that?' \n",
      "is likely said by Bart Simpson based on 0.56 prediction.\n",
      "[0.5594515 0.4405485]\n",
      "The sentence:\n",
      "'You can't go! You're the best teacher I'll ever have.' \n",
      "is likely said by Bart Simpson based on 0.59 prediction.\n",
      "[0.58858859 0.41141141]\n",
      "The sentence:\n",
      "'Oh, please.' \n",
      "is likely said by Bart Simpson based on 0.57 prediction.\n",
      "[0.57439104 0.42560896]\n",
      "The sentence:\n",
      "'But I need you too.' \n",
      "is likely said by Bart Simpson based on 0.59 prediction.\n",
      "[0.58684535 0.41315465]\n",
      "The sentence:\n",
      "'I, I understand. Mr. Bergstrom, I'm going to miss you.' \n",
      "is likely said by Lisa Simpson based on 0.98 prediction.\n",
      "[0.01792117 0.98207883]\n",
      "The sentence:\n",
      "'Thank you, Mr. Bergstrom.' \n",
      "is likely said by Lisa Simpson based on 0.97 prediction.\n",
      "[0.02599824 0.97400176]\n",
      "The sentence:\n",
      "'So, I guess this is it? It you don't mind I'll just run alongside the train as it speeds you from my life?' \n",
      "is likely said by Lisa Simpson based on 0.69 prediction.\n",
      "[0.31253716 0.68746284]\n",
      "The sentence:\n",
      "'Nothing.' \n",
      "is likely said by Bart Simpson based on 0.54 prediction.\n",
      "[0.54286199 0.45713801]\n",
      "The sentence:\n",
      "'Mr. Bergstrom left today.' \n",
      "is likely said by Lisa Simpson based on 0.97 prediction.\n",
      "[0.03145976 0.96854024]\n",
      "The sentence:\n",
      "'He's gone. Forever.' \n",
      "is likely said by Bart Simpson based on 0.70 prediction.\n",
      "[0.6961858 0.3038142]\n",
      "The sentence:\n",
      "'I didn't think you'd understand.' \n",
      "is likely said by Lisa Simpson based on 0.63 prediction.\n",
      "[0.36731947 0.63268053]\n",
      "The sentence:\n",
      "'I'm glad I'm not crying because I would hate for you to think that what I'm about to say is based on emotion. But you, sir, are a baboon!' \n",
      "is likely said by Lisa Simpson based on 0.91 prediction.\n",
      "[0.09398322 0.90601678]\n",
      "The sentence:\n",
      "'Yes, you! Baboon, baboon, baboon, baboon!' \n",
      "is likely said by Lisa Simpson based on 1.00 prediction.\n",
      "[0.00210965 0.99789035]\n",
      "The sentence:\n",
      "'Baboon!' \n",
      "is likely said by Lisa Simpson based on 0.80 prediction.\n",
      "[0.19690861 0.80309139]\n",
      "The sentence:\n",
      "'Whoa, somebody was bound to say it one day. I just can't believe it was her.' \n",
      "is likely said by Bart Simpson based on 0.97 prediction.\n",
      "[0.97276365 0.02723635]\n",
      "The sentence:\n",
      "'No!' \n",
      "is likely said by Bart Simpson based on 0.54 prediction.\n",
      "[0.54286199 0.45713801]\n",
      "The sentence:\n",
      "'Look, if you just want me to forgive you --' \n",
      "is likely said by Bart Simpson based on 0.52 prediction.\n",
      "[0.52018931 0.47981069]\n",
      "The sentence:\n",
      "'nan' \n",
      "is likely said by Bart Simpson based on 0.54 prediction.\n",
      "[0.53582701 0.46417299]\n",
      "The sentence:\n",
      "'Yeah.' \n",
      "is likely said by Bart Simpson based on 0.74 prediction.\n",
      "[0.74430824 0.25569176]\n",
      "The sentence:\n",
      "'You're so silly.' \n",
      "is likely said by Lisa Simpson based on 0.55 prediction.\n",
      "[0.45280753 0.54719247]\n",
      "The sentence:\n",
      "'I don't have any banana.' \n",
      "is likely said by Bart Simpson based on 0.87 prediction.\n",
      "[0.86746717 0.13253283]\n",
      "The sentence:\n",
      "'I'm sorry I called you a baboon, Dad.' \n",
      "is likely said by Lisa Simpson based on 0.90 prediction.\n",
      "[0.10491785 0.89508215]\n",
      "The sentence:\n",
      "'Ah, Dad, if just me, Milhouse and Lewis had voted...' \n",
      "is likely said by Bart Simpson based on 0.79 prediction.\n",
      "[0.79306698 0.20693302]\n",
      "The sentence:\n",
      "'No.' \n",
      "is likely said by Bart Simpson based on 0.54 prediction.\n",
      "[0.54286199 0.45713801]\n",
      "The sentence:\n",
      "'Yeah.' \n",
      "is likely said by Bart Simpson based on 0.74 prediction.\n",
      "[0.74430824 0.25569176]\n",
      "The sentence:\n",
      "'Well, no.' \n",
      "is likely said by Bart Simpson based on 0.54 prediction.\n",
      "[0.54286199 0.45713801]\n",
      "The sentence:\n",
      "'Hey! Thanks, monkey-man.' \n",
      "is likely said by Bart Simpson based on 0.97 prediction.\n",
      "[0.97050973 0.02949027]\n",
      "The sentence:\n",
      "'But Mom, I want to hear the witty banter of sophisticated adults.' \n",
      "is likely said by Lisa Simpson based on 0.59 prediction.\n",
      "[0.40735725 0.59264275]\n",
      "The sentence:\n",
      "'Yeah, you can't have any fun in bed.' \n",
      "is likely said by Bart Simpson based on 0.81 prediction.\n",
      "[0.81374018 0.18625982]\n",
      "The sentence:\n",
      "'Please Dad.' \n",
      "is likely said by Lisa Simpson based on 0.52 prediction.\n",
      "[0.48057612 0.51942388]\n",
      "The sentence:\n",
      "'What?' \n",
      "is likely said by Bart Simpson based on 0.54 prediction.\n",
      "[0.54286199 0.45713801]\n",
      "The sentence:\n",
      "'Yes sir.' \n",
      "is likely said by Bart Simpson based on 0.66 prediction.\n",
      "[0.65832251 0.34167749]\n"
     ]
    }
   ],
   "source": [
    "#loop for first fifty sentences in the datafram\n",
    "#this also prints the output from the naive bayesian model and the probabilities for the results\n",
    "for i in range(50):\n",
    "    C = clf.predict(X[i])\n",
    "    words = df['spoken_words'].iloc[i]\n",
    "    prob = clf.predict_proba(X[i])\n",
    "    p = prob.max()  #get the maximum value from the array\n",
    "    print(f\"The sentence:\\n'{words}' \\nis likely said by {C[0]} based on {p:.2f} prediction.\")\n",
    "    print(prob[0])  #the array of probabilities for comparison"
   ]
  },
  {
   "cell_type": "code",
   "execution_count": null,
   "metadata": {},
   "outputs": [],
   "source": [
    "#Do you see patterns (based on the data and your knowledge of the Simpsons)?\n"
   ]
  }
 ],
 "metadata": {
  "kernelspec": {
   "display_name": "Python 3",
   "language": "python",
   "name": "python3"
  },
  "language_info": {
   "codemirror_mode": {
    "name": "ipython",
    "version": 3
   },
   "file_extension": ".py",
   "mimetype": "text/x-python",
   "name": "python",
   "nbconvert_exporter": "python",
   "pygments_lexer": "ipython3",
   "version": "3.7.0"
  }
 },
 "nbformat": 4,
 "nbformat_minor": 2
}
