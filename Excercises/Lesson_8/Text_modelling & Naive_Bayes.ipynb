{
 "cells": [
  {
   "cell_type": "code",
   "execution_count": 20,
   "metadata": {},
   "outputs": [],
   "source": [
    "import pandas as pd\n",
    "from sklearn.feature_extraction.text import CountVectorizer #The CountVectorizer object\n",
    "from sklearn.naive_bayes import MultinomialNB\n",
    "from sklearn.model_selection import train_test_split\n",
    "from sklearn.metrics import confusion_matrix\n",
    "from sklearn.metrics import precision_recall_fscore_support"
   ]
  },
  {
   "cell_type": "code",
   "execution_count": 2,
   "metadata": {},
   "outputs": [
    {
     "data": {
      "text/html": [
       "<div>\n",
       "<style scoped>\n",
       "    .dataframe tbody tr th:only-of-type {\n",
       "        vertical-align: middle;\n",
       "    }\n",
       "\n",
       "    .dataframe tbody tr th {\n",
       "        vertical-align: top;\n",
       "    }\n",
       "\n",
       "    .dataframe thead th {\n",
       "        text-align: right;\n",
       "    }\n",
       "</style>\n",
       "<table border=\"1\" class=\"dataframe\">\n",
       "  <thead>\n",
       "    <tr style=\"text-align: right;\">\n",
       "      <th></th>\n",
       "      <th>raw_character_text</th>\n",
       "      <th>spoken_words</th>\n",
       "    </tr>\n",
       "  </thead>\n",
       "  <tbody>\n",
       "    <tr>\n",
       "      <th>0</th>\n",
       "      <td>Miss Hoover</td>\n",
       "      <td>No, actually, it was a little of both. Sometim...</td>\n",
       "    </tr>\n",
       "    <tr>\n",
       "      <th>1</th>\n",
       "      <td>Lisa Simpson</td>\n",
       "      <td>Where's Mr. Bergstrom?</td>\n",
       "    </tr>\n",
       "    <tr>\n",
       "      <th>2</th>\n",
       "      <td>Miss Hoover</td>\n",
       "      <td>I don't know. Although I'd sure like to talk t...</td>\n",
       "    </tr>\n",
       "  </tbody>\n",
       "</table>\n",
       "</div>"
      ],
      "text/plain": [
       "  raw_character_text                                       spoken_words\n",
       "0        Miss Hoover  No, actually, it was a little of both. Sometim...\n",
       "1       Lisa Simpson                             Where's Mr. Bergstrom?\n",
       "2        Miss Hoover  I don't know. Although I'd sure like to talk t..."
      ]
     },
     "execution_count": 2,
     "metadata": {},
     "output_type": "execute_result"
    }
   ],
   "source": [
    "simpsons = pd.read_csv(\"simpsons_dataset.csv\")\n",
    "simpsons.head(3)"
   ]
  },
  {
   "cell_type": "code",
   "execution_count": 153,
   "metadata": {},
   "outputs": [
    {
     "data": {
      "text/plain": [
       "Homer Simpson          29782\n",
       "Marge Simpson          14141\n",
       "Bart Simpson           13759\n",
       "Lisa Simpson           11489\n",
       "C. Montgomery Burns     3162\n",
       "Name: raw_character_text, dtype: int64"
      ]
     },
     "execution_count": 153,
     "metadata": {},
     "output_type": "execute_result"
    }
   ],
   "source": [
    "simpsons[\"raw_character_text\"].value_counts().head()"
   ]
  },
  {
   "cell_type": "markdown",
   "metadata": {},
   "source": [
    "The lines for bart and lisa are as follows:\n",
    "Bart Simpson                     13759\n",
    "Lisa Simpson                     11489"
   ]
  },
  {
   "cell_type": "code",
   "execution_count": 4,
   "metadata": {},
   "outputs": [
    {
     "data": {
      "text/html": [
       "<div>\n",
       "<style scoped>\n",
       "    .dataframe tbody tr th:only-of-type {\n",
       "        vertical-align: middle;\n",
       "    }\n",
       "\n",
       "    .dataframe tbody tr th {\n",
       "        vertical-align: top;\n",
       "    }\n",
       "\n",
       "    .dataframe thead th {\n",
       "        text-align: right;\n",
       "    }\n",
       "</style>\n",
       "<table border=\"1\" class=\"dataframe\">\n",
       "  <thead>\n",
       "    <tr style=\"text-align: right;\">\n",
       "      <th></th>\n",
       "      <th>raw_character_text</th>\n",
       "      <th>spoken_words</th>\n",
       "    </tr>\n",
       "  </thead>\n",
       "  <tbody>\n",
       "    <tr>\n",
       "      <th>1</th>\n",
       "      <td>Lisa Simpson</td>\n",
       "      <td>Where's Mr. Bergstrom?</td>\n",
       "    </tr>\n",
       "    <tr>\n",
       "      <th>3</th>\n",
       "      <td>Lisa Simpson</td>\n",
       "      <td>That life is worth living.</td>\n",
       "    </tr>\n",
       "    <tr>\n",
       "      <th>7</th>\n",
       "      <td>Bart Simpson</td>\n",
       "      <td>Victory party under the slide!</td>\n",
       "    </tr>\n",
       "    <tr>\n",
       "      <th>9</th>\n",
       "      <td>Lisa Simpson</td>\n",
       "      <td>Mr. Bergstrom! Mr. Bergstrom!</td>\n",
       "    </tr>\n",
       "    <tr>\n",
       "      <th>11</th>\n",
       "      <td>Lisa Simpson</td>\n",
       "      <td>Do you know where I could find him?</td>\n",
       "    </tr>\n",
       "  </tbody>\n",
       "</table>\n",
       "</div>"
      ],
      "text/plain": [
       "   raw_character_text                         spoken_words\n",
       "1        Lisa Simpson               Where's Mr. Bergstrom?\n",
       "3        Lisa Simpson           That life is worth living.\n",
       "7        Bart Simpson       Victory party under the slide!\n",
       "9        Lisa Simpson        Mr. Bergstrom! Mr. Bergstrom!\n",
       "11       Lisa Simpson  Do you know where I could find him?"
      ]
     },
     "execution_count": 4,
     "metadata": {},
     "output_type": "execute_result"
    }
   ],
   "source": [
    "# create a df with on lisa and barts lines\n",
    "df = simpsons[(simpsons[\"raw_character_text\"] == \"Lisa Simpson\") | (simpsons[\"raw_character_text\"] == \"Bart Simpson\")] \n",
    "df.head()"
   ]
  },
  {
   "cell_type": "code",
   "execution_count": 5,
   "metadata": {},
   "outputs": [
    {
     "name": "stdout",
     "output_type": "stream",
     "text": [
      "There are 14258 words in the vocabulary. A selection: ['anguished', 'angus', 'anima', 'animal', 'animals', 'animated', 'animation', 'animators', 'anka', 'ankle', 'ann', 'annapolis', 'anne', 'annie', 'anniversary', 'annnnd', 'announce', 'announcement', 'announcements', 'announcer']\n"
     ]
    }
   ],
   "source": [
    "text = df['spoken_words'].values.astype('U') #Taking the text from the df. We need to convert it to Unicode\n",
    "\n",
    "vect = CountVectorizer(stop_words='english') #Create the CV object, with English stop words\n",
    "vect = vect.fit(text) #We fit the model with the words from the review text\n",
    "feature_names = vect.get_feature_names() #Get the words from the vocabulary\n",
    "print(f\"There are {len(feature_names)} words in the vocabulary. A selection: {feature_names[500:520]}\")"
   ]
  },
  {
   "cell_type": "code",
   "execution_count": 151,
   "metadata": {},
   "outputs": [
    {
     "name": "stdout",
     "output_type": "stream",
     "text": [
      "\n"
     ]
    }
   ],
   "source": [
    "matrix = vect.transform(text) #The transform method from the CountVectorizer object creates the matrix\n",
    "print(matrix[0:50,0:50])\n",
    "#matrix"
   ]
  },
  {
   "cell_type": "code",
   "execution_count": 7,
   "metadata": {},
   "outputs": [],
   "source": [
    "docu_feat = pd.DataFrame(matrix.toarray()) #make a regular matrix, then put in Dataframe\n",
    "docu_feat.index = df['spoken_words'] #Give the rows names (text of the review)\n",
    "docu_feat.columns = feature_names"
   ]
  },
  {
   "cell_type": "code",
   "execution_count": 8,
   "metadata": {},
   "outputs": [
    {
     "data": {
      "text/html": [
       "<div>\n",
       "<style scoped>\n",
       "    .dataframe tbody tr th:only-of-type {\n",
       "        vertical-align: middle;\n",
       "    }\n",
       "\n",
       "    .dataframe tbody tr th {\n",
       "        vertical-align: top;\n",
       "    }\n",
       "\n",
       "    .dataframe thead th {\n",
       "        text-align: right;\n",
       "    }\n",
       "</style>\n",
       "<table border=\"1\" class=\"dataframe\">\n",
       "  <thead>\n",
       "    <tr style=\"text-align: right;\">\n",
       "      <th></th>\n",
       "      <th>bartholemew</th>\n",
       "      <th>bartholomew</th>\n",
       "      <th>bartish</th>\n",
       "      <th>bartman</th>\n",
       "      <th>barto</th>\n",
       "      <th>bartrand</th>\n",
       "      <th>bartron</th>\n",
       "      <th>barts</th>\n",
       "      <th>barty</th>\n",
       "      <th>bas</th>\n",
       "      <th>base</th>\n",
       "      <th>baseball</th>\n",
       "      <th>based</th>\n",
       "      <th>basement</th>\n",
       "      <th>basements</th>\n",
       "    </tr>\n",
       "    <tr>\n",
       "      <th>spoken_words</th>\n",
       "      <th></th>\n",
       "      <th></th>\n",
       "      <th></th>\n",
       "      <th></th>\n",
       "      <th></th>\n",
       "      <th></th>\n",
       "      <th></th>\n",
       "      <th></th>\n",
       "      <th></th>\n",
       "      <th></th>\n",
       "      <th></th>\n",
       "      <th></th>\n",
       "      <th></th>\n",
       "      <th></th>\n",
       "      <th></th>\n",
       "    </tr>\n",
       "  </thead>\n",
       "  <tbody>\n",
       "    <tr>\n",
       "      <th>Where's Mr. Bergstrom?</th>\n",
       "      <td>0</td>\n",
       "      <td>0</td>\n",
       "      <td>0</td>\n",
       "      <td>0</td>\n",
       "      <td>0</td>\n",
       "      <td>0</td>\n",
       "      <td>0</td>\n",
       "      <td>0</td>\n",
       "      <td>0</td>\n",
       "      <td>0</td>\n",
       "      <td>0</td>\n",
       "      <td>0</td>\n",
       "      <td>0</td>\n",
       "      <td>0</td>\n",
       "      <td>0</td>\n",
       "    </tr>\n",
       "    <tr>\n",
       "      <th>That life is worth living.</th>\n",
       "      <td>0</td>\n",
       "      <td>0</td>\n",
       "      <td>0</td>\n",
       "      <td>0</td>\n",
       "      <td>0</td>\n",
       "      <td>0</td>\n",
       "      <td>0</td>\n",
       "      <td>0</td>\n",
       "      <td>0</td>\n",
       "      <td>0</td>\n",
       "      <td>0</td>\n",
       "      <td>0</td>\n",
       "      <td>0</td>\n",
       "      <td>0</td>\n",
       "      <td>0</td>\n",
       "    </tr>\n",
       "    <tr>\n",
       "      <th>Victory party under the slide!</th>\n",
       "      <td>0</td>\n",
       "      <td>0</td>\n",
       "      <td>0</td>\n",
       "      <td>0</td>\n",
       "      <td>0</td>\n",
       "      <td>0</td>\n",
       "      <td>0</td>\n",
       "      <td>0</td>\n",
       "      <td>0</td>\n",
       "      <td>0</td>\n",
       "      <td>0</td>\n",
       "      <td>0</td>\n",
       "      <td>0</td>\n",
       "      <td>0</td>\n",
       "      <td>0</td>\n",
       "    </tr>\n",
       "    <tr>\n",
       "      <th>Mr. Bergstrom! Mr. Bergstrom!</th>\n",
       "      <td>0</td>\n",
       "      <td>0</td>\n",
       "      <td>0</td>\n",
       "      <td>0</td>\n",
       "      <td>0</td>\n",
       "      <td>0</td>\n",
       "      <td>0</td>\n",
       "      <td>0</td>\n",
       "      <td>0</td>\n",
       "      <td>0</td>\n",
       "      <td>0</td>\n",
       "      <td>0</td>\n",
       "      <td>0</td>\n",
       "      <td>0</td>\n",
       "      <td>0</td>\n",
       "    </tr>\n",
       "  </tbody>\n",
       "</table>\n",
       "</div>"
      ],
      "text/plain": [
       "                                bartholemew  bartholomew  bartish  bartman  \\\n",
       "spoken_words                                                                 \n",
       "Where's Mr. Bergstrom?                    0            0        0        0   \n",
       "That life is worth living.                0            0        0        0   \n",
       "Victory party under the slide!            0            0        0        0   \n",
       "Mr. Bergstrom! Mr. Bergstrom!             0            0        0        0   \n",
       "\n",
       "                                barto  bartrand  bartron  barts  barty  bas  \\\n",
       "spoken_words                                                                  \n",
       "Where's Mr. Bergstrom?              0         0        0      0      0    0   \n",
       "That life is worth living.          0         0        0      0      0    0   \n",
       "Victory party under the slide!      0         0        0      0      0    0   \n",
       "Mr. Bergstrom! Mr. Bergstrom!       0         0        0      0      0    0   \n",
       "\n",
       "                                base  baseball  based  basement  basements  \n",
       "spoken_words                                                                \n",
       "Where's Mr. Bergstrom?             0         0      0         0          0  \n",
       "That life is worth living.         0         0      0         0          0  \n",
       "Victory party under the slide!     0         0      0         0          0  \n",
       "Mr. Bergstrom! Mr. Bergstrom!      0         0      0         0          0  "
      ]
     },
     "execution_count": 8,
     "metadata": {},
     "output_type": "execute_result"
    }
   ],
   "source": [
    "docu_feat.iloc[0:4, 1000:1015]"
   ]
  },
  {
   "cell_type": "code",
   "execution_count": 9,
   "metadata": {},
   "outputs": [],
   "source": [
    "#Split the data into a training and a test set\n",
    "y = df['raw_character_text'] #we want to which character is speaking\n",
    "X = matrix #based on the word spoken"
   ]
  },
  {
   "cell_type": "code",
   "execution_count": 10,
   "metadata": {},
   "outputs": [],
   "source": [
    "#split dataset into train and test sets\n",
    "X_train, X_test, y_train, y_test = train_test_split(X, y, test_size=0.3, random_state=1) "
   ]
  },
  {
   "cell_type": "code",
   "execution_count": 11,
   "metadata": {},
   "outputs": [
    {
     "data": {
      "text/plain": [
       "MultinomialNB(alpha=1.0, class_prior=None, fit_prior=True)"
      ]
     },
     "execution_count": 11,
     "metadata": {},
     "output_type": "execute_result"
    }
   ],
   "source": [
    "# Train a NB model on the training set\n",
    "clf = MultinomialNB()\n",
    "clf.fit(X_train, y_train)"
   ]
  },
  {
   "cell_type": "code",
   "execution_count": 64,
   "metadata": {},
   "outputs": [
    {
     "data": {
      "text/plain": [
       "array(['Bart Simpson', 'Lisa Simpson'], dtype='<U12')"
      ]
     },
     "execution_count": 64,
     "metadata": {},
     "output_type": "execute_result"
    }
   ],
   "source": [
    "#to find out the classes being used in the model\n",
    "clf.classes_"
   ]
  },
  {
   "cell_type": "code",
   "execution_count": 12,
   "metadata": {},
   "outputs": [
    {
     "name": "stdout",
     "output_type": "stream",
     "text": [
      "['Bart Simpson']\n"
     ]
    }
   ],
   "source": [
    "# Predict the class (Lisa or Bart) of the test set\n",
    "print(clf.predict(X[2:3]))"
   ]
  },
  {
   "cell_type": "code",
   "execution_count": 23,
   "metadata": {},
   "outputs": [
    {
     "data": {
      "text/html": [
       "<div>\n",
       "<style scoped>\n",
       "    .dataframe tbody tr th:only-of-type {\n",
       "        vertical-align: middle;\n",
       "    }\n",
       "\n",
       "    .dataframe tbody tr th {\n",
       "        vertical-align: top;\n",
       "    }\n",
       "\n",
       "    .dataframe thead th {\n",
       "        text-align: right;\n",
       "    }\n",
       "</style>\n",
       "<table border=\"1\" class=\"dataframe\">\n",
       "  <thead>\n",
       "    <tr style=\"text-align: right;\">\n",
       "      <th></th>\n",
       "      <th>Bart</th>\n",
       "      <th>Lisa</th>\n",
       "    </tr>\n",
       "  </thead>\n",
       "  <tbody>\n",
       "    <tr>\n",
       "      <th>Bart_predict</th>\n",
       "      <td>3271</td>\n",
       "      <td>894</td>\n",
       "    </tr>\n",
       "    <tr>\n",
       "      <th>Lisa_predict</th>\n",
       "      <td>1799</td>\n",
       "      <td>1611</td>\n",
       "    </tr>\n",
       "  </tbody>\n",
       "</table>\n",
       "</div>"
      ],
      "text/plain": [
       "              Bart  Lisa\n",
       "Bart_predict  3271   894\n",
       "Lisa_predict  1799  1611"
      ]
     },
     "execution_count": 23,
     "metadata": {},
     "output_type": "execute_result"
    }
   ],
   "source": [
    "y_predict = clf.predict(X_test) #the predicted values\n",
    "cm = confusion_matrix(y_test, y_predict) #creates a \"confusion matrix\"\n",
    "conf_matrix = pd.DataFrame(cm, index=['Bart_predict', 'Lisa_predict'], columns = ['Bart', 'Lisa'])\n",
    "conf_matrix  #this is on the test set which is 30% of the entire dataframe, hence the number mismatch "
   ]
  },
  {
   "cell_type": "code",
   "execution_count": 22,
   "metadata": {},
   "outputs": [
    {
     "data": {
      "text/plain": [
       "(array([0.64516765, 0.64311377]),\n",
       " array([0.78535414, 0.47243402]),\n",
       " array([0.70839199, 0.54471682]),\n",
       " array([4165, 3410], dtype=int64))"
      ]
     },
     "execution_count": 22,
     "metadata": {},
     "output_type": "execute_result"
    }
   ],
   "source": [
    "precision_recall_fscore_support(y_test, y_predict, average=None)"
   ]
  },
  {
   "cell_type": "markdown",
   "metadata": {},
   "source": [
    "Precision is 64.3%, recall is 47.2% on the predictive model. \n",
    "From confusion matrix we see there are a lot of false negatives\n",
    "Precision means the percentage of your results which are relevant. On the other hand, recall refers to the percentage of total relevant results correctly classified by your algorithm. This is usually a trade off ... to recall everything, you will have to keep generating results which are not accurate, hence lowering your precision"
   ]
  },
  {
   "cell_type": "code",
   "execution_count": 84,
   "metadata": {},
   "outputs": [
    {
     "data": {
      "text/plain": [
       "7    Victory party under the slide!\n",
       "Name: spoken_words, dtype: object"
      ]
     },
     "execution_count": 84,
     "metadata": {},
     "output_type": "execute_result"
    }
   ],
   "source": [
    "#looking up a line in the dataframe with iloc\n",
    "l = df.iloc[2:3][\"spoken_words\"]"
   ]
  },
  {
   "cell_type": "code",
   "execution_count": 141,
   "metadata": {},
   "outputs": [
    {
     "data": {
      "text/html": [
       "<div>\n",
       "<style scoped>\n",
       "    .dataframe tbody tr th:only-of-type {\n",
       "        vertical-align: middle;\n",
       "    }\n",
       "\n",
       "    .dataframe tbody tr th {\n",
       "        vertical-align: top;\n",
       "    }\n",
       "\n",
       "    .dataframe thead th {\n",
       "        text-align: right;\n",
       "    }\n",
       "</style>\n",
       "<table border=\"1\" class=\"dataframe\">\n",
       "  <thead>\n",
       "    <tr style=\"text-align: right;\">\n",
       "      <th></th>\n",
       "      <th>raw_character_text</th>\n",
       "      <th>spoken_words</th>\n",
       "    </tr>\n",
       "  </thead>\n",
       "  <tbody>\n",
       "    <tr>\n",
       "      <th>7</th>\n",
       "      <td>Bart Simpson</td>\n",
       "      <td>Victory party under the slide!</td>\n",
       "    </tr>\n",
       "  </tbody>\n",
       "</table>\n",
       "</div>"
      ],
      "text/plain": [
       "  raw_character_text                    spoken_words\n",
       "7       Bart Simpson  Victory party under the slide!"
      ]
     },
     "execution_count": 141,
     "metadata": {},
     "output_type": "execute_result"
    }
   ],
   "source": [
    "#without variable\n",
    "df.iloc[2:3]"
   ]
  },
  {
   "cell_type": "code",
   "execution_count": 15,
   "metadata": {},
   "outputs": [
    {
     "data": {
      "text/plain": [
       "Bart Simpson    0.544954\n",
       "Lisa Simpson    0.455046\n",
       "Name: raw_character_text, dtype: float64"
      ]
     },
     "execution_count": 15,
     "metadata": {},
     "output_type": "execute_result"
    }
   ],
   "source": [
    "#the proportion of texts said by each character in dataframe\n",
    "df[\"raw_character_text\"].value_counts(normalize = True)"
   ]
  },
  {
   "cell_type": "code",
   "execution_count": 16,
   "metadata": {},
   "outputs": [
    {
     "data": {
      "text/plain": [
       "0.6444884488448845"
      ]
     },
     "execution_count": 16,
     "metadata": {},
     "output_type": "execute_result"
    }
   ],
   "source": [
    "clf.score(X_test, y_test) #calculate the fit on the test data, i.e. the accuracy"
   ]
  },
  {
   "cell_type": "code",
   "execution_count": 137,
   "metadata": {},
   "outputs": [
    {
     "name": "stdout",
     "output_type": "stream",
     "text": [
      "  raw_character_text                    spoken_words\n",
      "7       Bart Simpson  Victory party under the slide!\n",
      "0.7936665779408832\n"
     ]
    }
   ],
   "source": [
    "#checking the probabilities of dialogue\n",
    "print (df.iloc[2:3])\n",
    "p = (clf.predict_proba(X[2:3]))\n",
    "#arrange the array by ascending values and print the highest value?\n",
    "print (p.max())"
   ]
  },
  {
   "cell_type": "code",
   "execution_count": 116,
   "metadata": {},
   "outputs": [
    {
     "name": "stdout",
     "output_type": "stream",
     "text": [
      "The sentence:\n",
      " 7    Victory party under the slide!\n",
      "Name: spoken_words, dtype: object \n",
      "is likely said by ['Bart Simpson'] based on 0.79 prediction. \n",
      "The sentence:\n",
      " 7    Victory party under the slide!\n",
      "Name: spoken_words, dtype: object \n",
      "is likely said by ['Bart Simpson'] based on 0.79 prediction. \n"
     ]
    }
   ],
   "source": [
    "#Create a loop that prints out a few lines of dialogue and the associated probabilities for Bart and Lisa. \n",
    "#testing solutions\n",
    "L = df.iloc[2:3]\n",
    "C = clf.predict(X[2:3])\n",
    "P = clf.predict_proba(X[2:3])\n",
    "p = P[0][0]\n",
    "for key in L:\n",
    "    print (f\"The sentence:\\n {L['spoken_words']} \\nis likely said by {C} based on {p:.2f} prediction. \")\n",
    "#Tip: the array with the probabilities is 2-dimensional.\n",
    "#its messy...lets clean it up"
   ]
  },
  {
   "cell_type": "code",
   "execution_count": 145,
   "metadata": {},
   "outputs": [
    {
     "name": "stdout",
     "output_type": "stream",
     "text": [
      "The sentence:'Where's Mr. Bergstrom?' is likely said by Lisa Simpson based on 0.96 prediction.\n",
      "Bart: 0.04271498580067743, Lisa:  0.957285014199323\n",
      "The sentence:'That life is worth living.' is likely said by Bart Simpson based on 0.68 prediction.\n",
      "Bart: 0.676345532629102, Lisa:  0.3236544673708974\n",
      "The sentence:'Victory party under the slide!' is likely said by Bart Simpson based on 0.79 prediction.\n",
      "Bart: 0.7936665779408832, Lisa:  0.20633342205911578\n",
      "The sentence:'Mr. Bergstrom! Mr. Bergstrom!' is likely said by Lisa Simpson based on 1.00 prediction.\n",
      "Bart: 0.0016738185124174146, Lisa:  0.9983261814875828\n",
      "The sentence:'Do you know where I could find him?' is likely said by Bart Simpson based on 0.54 prediction.\n",
      "Bart: 0.5424412124555592, Lisa:  0.4575587875444406\n",
      "The sentence:'The train, how like him... traditional, yet environmentally sound.' is likely said by Lisa Simpson based on 0.93 prediction.\n",
      "Bart: 0.06930172690218564, Lisa:  0.930698273097816\n",
      "The sentence:'I see he touched you, too.' is likely said by Lisa Simpson based on 0.58 prediction.\n",
      "Bart: 0.42381872382568675, Lisa:  0.5761812761743126\n",
      "The sentence:'Hey, thanks for your vote, man.' is likely said by Bart Simpson based on 0.95 prediction.\n",
      "Bart: 0.9536359347446102, Lisa:  0.04636406525539032\n",
      "The sentence:'Well, you got that right. Thanks for your vote, girls.' is likely said by Bart Simpson based on 0.84 prediction.\n",
      "Bart: 0.8431657684099719, Lisa:  0.15683423159002693\n",
      "The sentence:'Well, don't sweat it. Just so long as a couple of people did... right, Milhouse?' is likely said by Bart Simpson based on 0.82 prediction.\n",
      "Bart: 0.8170694268683306, Lisa:  0.18293057313167005\n",
      "The sentence:'Lewis?' is likely said by Bart Simpson based on 0.73 prediction.\n",
      "Bart: 0.7339270932407512, Lisa:  0.26607290675924955\n",
      "The sentence:'Somebody must have voted.' is likely said by Lisa Simpson based on 0.70 prediction.\n",
      "Bart: 0.30208347927680923, Lisa:  0.6979165207231907\n",
      "The sentence:'Uh oh.' is likely said by Bart Simpson based on 0.72 prediction.\n",
      "Bart: 0.7228048637697062, Lisa:  0.2771951362302934\n",
      "The sentence:'nan' is likely said by Bart Simpson based on 0.54 prediction.\n",
      "Bart: 0.5358270058605773, Lisa:  0.46417299413942276\n",
      "The sentence:'I demand a recount.' is likely said by Bart Simpson based on 0.75 prediction.\n",
      "Bart: 0.7546261883170647, Lisa:  0.24537381168293468\n",
      "The sentence:'No.' is likely said by Bart Simpson based on 0.54 prediction.\n",
      "Bart: 0.5428619928704803, Lisa:  0.45713800712951974\n",
      "The sentence:'Mr. Bergstrom! Hey, Mr. Bergstrom!' is likely said by Lisa Simpson based on 1.00 prediction.\n",
      "Bart: 0.0047226697018896355, Lisa:  0.9952773302981087\n",
      "The sentence:'Hey, Lisa, indeed.' is likely said by Bart Simpson based on 0.92 prediction.\n",
      "Bart: 0.920047656978963, Lisa:  0.07995234302103714\n",
      "The sentence:'Oh, I mean, were you just going to leave, just like that?' is likely said by Bart Simpson based on 0.56 prediction.\n",
      "Bart: 0.5594515003265402, Lisa:  0.4405484996734579\n",
      "The sentence:'You can't go! You're the best teacher I'll ever have.' is likely said by Bart Simpson based on 0.59 prediction.\n",
      "Bart: 0.5885885909496098, Lisa:  0.411411409050391\n",
      "The sentence:'Oh, please.' is likely said by Bart Simpson based on 0.57 prediction.\n",
      "Bart: 0.574391038432606, Lisa:  0.4256089615673938\n",
      "The sentence:'But I need you too.' is likely said by Bart Simpson based on 0.59 prediction.\n",
      "Bart: 0.5868453526357376, Lisa:  0.4131546473642621\n",
      "The sentence:'I, I understand. Mr. Bergstrom, I'm going to miss you.' is likely said by Lisa Simpson based on 0.98 prediction.\n",
      "Bart: 0.017921169184061357, Lisa:  0.9820788308159354\n",
      "The sentence:'Thank you, Mr. Bergstrom.' is likely said by Lisa Simpson based on 0.97 prediction.\n",
      "Bart: 0.0259982369810321, Lisa:  0.9740017630189679\n",
      "The sentence:'So, I guess this is it? It you don't mind I'll just run alongside the train as it speeds you from my life?' is likely said by Lisa Simpson based on 0.69 prediction.\n",
      "Bart: 0.3125371626341257, Lisa:  0.6874628373658808\n",
      "The sentence:'Nothing.' is likely said by Bart Simpson based on 0.54 prediction.\n",
      "Bart: 0.5428619928704803, Lisa:  0.45713800712951974\n",
      "The sentence:'Mr. Bergstrom left today.' is likely said by Lisa Simpson based on 0.97 prediction.\n",
      "Bart: 0.0314597576294659, Lisa:  0.968540242370535\n",
      "The sentence:'He's gone. Forever.' is likely said by Bart Simpson based on 0.70 prediction.\n",
      "Bart: 0.6961857959222127, Lisa:  0.30381420407778753\n",
      "The sentence:'I didn't think you'd understand.' is likely said by Lisa Simpson based on 0.63 prediction.\n",
      "Bart: 0.36731946732004145, Lisa:  0.6326805326799567\n",
      "The sentence:'I'm glad I'm not crying because I would hate for you to think that what I'm about to say is based on emotion. But you, sir, are a baboon!' is likely said by Lisa Simpson based on 0.91 prediction.\n",
      "Bart: 0.09398321819302205, Lisa:  0.9060167818069712\n",
      "The sentence:'Yes, you! Baboon, baboon, baboon, baboon!' is likely said by Lisa Simpson based on 1.00 prediction.\n",
      "Bart: 0.002109645769919567, Lisa:  0.9978903542300794\n",
      "The sentence:'Baboon!' is likely said by Lisa Simpson based on 0.80 prediction.\n",
      "Bart: 0.1969086125212604, Lisa:  0.8030913874787396\n",
      "The sentence:'Whoa, somebody was bound to say it one day. I just can't believe it was her.' is likely said by Bart Simpson based on 0.97 prediction.\n",
      "Bart: 0.9727636522640142, Lisa:  0.027236347735988615\n",
      "The sentence:'No!' is likely said by Bart Simpson based on 0.54 prediction.\n",
      "Bart: 0.5428619928704803, Lisa:  0.45713800712951974\n",
      "The sentence:'Look, if you just want me to forgive you --' is likely said by Bart Simpson based on 0.52 prediction.\n",
      "Bart: 0.5201893135291753, Lisa:  0.4798106864708259\n",
      "The sentence:'nan' is likely said by Bart Simpson based on 0.54 prediction.\n",
      "Bart: 0.5358270058605773, Lisa:  0.46417299413942276\n",
      "The sentence:'Yeah.' is likely said by Bart Simpson based on 0.74 prediction.\n",
      "Bart: 0.7443082356814933, Lisa:  0.2556917643185068\n",
      "The sentence:'You're so silly.' is likely said by Lisa Simpson based on 0.55 prediction.\n",
      "Bart: 0.45280752583655764, Lisa:  0.5471924741634416\n",
      "The sentence:'I don't have any banana.' is likely said by Bart Simpson based on 0.87 prediction.\n",
      "Bart: 0.867467170343995, Lisa:  0.13253282965600452\n",
      "The sentence:'I'm sorry I called you a baboon, Dad.' is likely said by Lisa Simpson based on 0.90 prediction.\n",
      "Bart: 0.10491785122107175, Lisa:  0.8950821487789271\n",
      "The sentence:'Ah, Dad, if just me, Milhouse and Lewis had voted...' is likely said by Bart Simpson based on 0.79 prediction.\n",
      "Bart: 0.7930669844613039, Lisa:  0.206933015538697\n",
      "The sentence:'No.' is likely said by Bart Simpson based on 0.54 prediction.\n",
      "Bart: 0.5428619928704803, Lisa:  0.45713800712951974\n",
      "The sentence:'Yeah.' is likely said by Bart Simpson based on 0.74 prediction.\n",
      "Bart: 0.7443082356814933, Lisa:  0.2556917643185068\n",
      "The sentence:'Well, no.' is likely said by Bart Simpson based on 0.54 prediction.\n",
      "Bart: 0.5428619928704803, Lisa:  0.45713800712951974\n",
      "The sentence:'Hey! Thanks, monkey-man.' is likely said by Bart Simpson based on 0.97 prediction.\n",
      "Bart: 0.9705097258420846, Lisa:  0.0294902741579152\n",
      "The sentence:'But Mom, I want to hear the witty banter of sophisticated adults.' is likely said by Lisa Simpson based on 0.59 prediction.\n",
      "Bart: 0.40735725387699845, Lisa:  0.5926427461230032\n",
      "The sentence:'Yeah, you can't have any fun in bed.' is likely said by Bart Simpson based on 0.81 prediction.\n",
      "Bart: 0.8137401839387389, Lisa:  0.18625981606126002\n",
      "The sentence:'Please Dad.' is likely said by Lisa Simpson based on 0.52 prediction.\n",
      "Bart: 0.4805761234318125, Lisa:  0.5194238765681874\n",
      "The sentence:'What?' is likely said by Bart Simpson based on 0.54 prediction.\n",
      "Bart: 0.5428619928704803, Lisa:  0.45713800712951974\n",
      "The sentence:'Yes sir.' is likely said by Bart Simpson based on 0.66 prediction.\n",
      "Bart: 0.6583225095705708, Lisa:  0.3416774904294294\n"
     ]
    }
   ],
   "source": [
    "#loop for first fifty sentences in the datafram\n",
    "#this also prints the output from the naive bayesian model and the probabilities for the results\n",
    "for i in range(50):\n",
    "    C = clf.predict(X[i])\n",
    "    words = df['spoken_words'].iloc[i]\n",
    "    prob = clf.predict_proba(X[i])\n",
    "    p = prob.max()  #get the maximum value from the array\n",
    "    print(f\"The sentence:'{words}' is likely said by {C[0]} based on {p:.2f} prediction.\")\n",
    "    print(f\"Bart: {prob[0][0]}, Lisa:  {prob[0][1]}\")  #the array of probabilities for comparison"
   ]
  },
  {
   "cell_type": "markdown",
   "metadata": {},
   "source": [
    "#Do you see patterns (based on the data and your knowledge of the Simpsons)?\n",
    "Bart talks a lot."
   ]
  },
  {
   "cell_type": "code",
   "execution_count": 148,
   "metadata": {},
   "outputs": [
    {
     "data": {
      "text/plain": [
       "array([], shape=(0, 14258), dtype=float64)"
      ]
     },
     "execution_count": 148,
     "metadata": {},
     "output_type": "execute_result"
    }
   ],
   "source": [
    "clf.feature_log_prob_[500:510]"
   ]
  },
  {
   "cell_type": "code",
   "execution_count": 150,
   "metadata": {},
   "outputs": [
    {
     "data": {
      "text/plain": [
       "['anguished',\n",
       " 'angus',\n",
       " 'anima',\n",
       " 'animal',\n",
       " 'animals',\n",
       " 'animated',\n",
       " 'animation',\n",
       " 'animators',\n",
       " 'anka',\n",
       " 'ankle']"
      ]
     },
     "execution_count": 150,
     "metadata": {},
     "output_type": "execute_result"
    }
   ],
   "source": [
    "vect.get_feature_names()[500:510]"
   ]
  },
  {
   "cell_type": "code",
   "execution_count": null,
   "metadata": {},
   "outputs": [],
   "source": []
  }
 ],
 "metadata": {
  "kernelspec": {
   "display_name": "Python 3",
   "language": "python",
   "name": "python3"
  },
  "language_info": {
   "codemirror_mode": {
    "name": "ipython",
    "version": 3
   },
   "file_extension": ".py",
   "mimetype": "text/x-python",
   "name": "python",
   "nbconvert_exporter": "python",
   "pygments_lexer": "ipython3",
   "version": "3.7.0"
  }
 },
 "nbformat": 4,
 "nbformat_minor": 2
}
